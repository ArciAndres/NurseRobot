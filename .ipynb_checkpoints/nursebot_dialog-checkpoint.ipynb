{
 "cells": [
  {
   "cell_type": "markdown",
   "metadata": {},
   "source": [
    "# AI(2A) - Human Robot Interaction Project\n",
    "# 👩‍⚕️  Nurse Robot"
   ]
  },
  {
   "cell_type": "markdown",
   "metadata": {},
   "source": [
    "## Introduction\n",
    "This script implements a Spoke Dialog System (SDS) based on Spoken Natural Language Dialog in the context of an automated home nurse assistant, to be used by people with limited capabilities. It simulates actions such as reaching things, provide meals and inspect patient status. The system acquires a spoken input from the user through Google Speech Recognition API. Then, recognizes the intent of the sentence using Rasa NLU and retrieves and action result that is transmitted to the user through VocalWare Text-To-Speech API. The order of the sentences, and the recognition of the utterances and dependencies is processed by the libraries spaCy and Keras, building a model that returns the adequate actions given a series of inputs. "
   ]
  },
  {
   "cell_type": "markdown",
   "metadata": {},
   "source": [
    "![title](images/NurseRobotMindmap.png)"
   ]
  },
  {
   "cell_type": "code",
   "execution_count": 1,
   "metadata": {},
   "outputs": [],
   "source": [
    "#imports for project\n",
    "\n",
    "from __future__ import absolute_import\n",
    "from __future__ import division\n",
    "from __future__ import print_function\n",
    "from __future__ import unicode_literals\n",
    "\n",
    "import logging\n",
    "import rasa_core\n",
    "from rasa_core.agent import Agent\n",
    "from rasa_core.policies.keras_policy import KerasPolicy\n",
    "from rasa_core.policies.memoization import MemoizationPolicy\n",
    "from rasa_core.interpreter import RasaNLUInterpreter\n",
    "from rasa_nlu.model import Metadata, Interpreter\n",
    "from rasa_core.utils import EndpointConfig\n",
    "from rasa_core.run import serve_application\n",
    "from rasa_nlu.model import Trainer\n",
    "from rasa_nlu.training_data import load_data\n",
    "from rasa_core import config\n",
    "from IPython.display import IFrame\n",
    "import pandas as pd\n",
    "import ruamel\n",
    "import urllib.request\n",
    "from urllib.request import urlopen\n",
    "from playsound import playsound\n",
    "import uuid\n",
    "import speech_recognition as sr\n",
    "import os\n",
    "import spacy\n",
    "from spacy import displacy\n",
    "import warnings\n",
    "warnings.simplefilter('ignore', ruamel.yaml.error.UnsafeLoaderWarning)\n",
    "warnings.filterwarnings(\"ignore\",category=DeprecationWarning)\n",
    "os.environ['TF_CPP_MIN_LOG_LEVEL'] = '2' #To ignore Tensorflow AVX AVX2 bonary warning\n",
    "\n",
    "nlp = spacy.load('en')\n"
   ]
  },
  {
   "cell_type": "markdown",
   "metadata": {},
   "source": [
    "Some of the data used in this project is not shown in this notebook, but in external files. The content of each relevant file is described hereunder.\n",
    "\n",
    "* nurse_domain.yml: Defines the actions that can be taken by the agent, the intents that are expected, the entities to be saved if received, and some answers to the basic user utterances.\n",
    "* stories.md: Contains the examples of dialogs and the specification of the entities that could be found on the phrases.\n",
    "* config_spacy.json: Saves the pipeline to be used by the NLP library, in this case sklearn with spaCy \n"
   ]
  },
  {
   "cell_type": "code",
   "execution_count": 2,
   "metadata": {},
   "outputs": [],
   "source": [
    "# Declare paths\n",
    "domain_file = './nurse_domain.yml'\n",
    "model_path = './models/dialogue'\n",
    "interpreter_path ='./models/nursebot/interpreter'\n",
    "training_data_file = './data/stories.md'\n",
    "conf_file = './config_spacy.json'"
   ]
  },
  {
   "cell_type": "code",
   "execution_count": 3,
   "metadata": {},
   "outputs": [],
   "source": [
    "# Build the interpreter of the elements of dialog for the agent. If it doesn't work on the notebook, try on an external console\n",
    "#!python -m rasa_nlu.train -c config_spacy.json --data data/data.md -o models --fixed_model_name interpreter --project nursebot --verbose"
   ]
  },
  {
   "cell_type": "code",
   "execution_count": 4,
   "metadata": {},
   "outputs": [],
   "source": [
    "action_endpoint = EndpointConfig(url=\"http://localhost:5055/webhook\")\n",
    "interpreter = RasaNLUInterpreter(interpreter_path)"
   ]
  },
  {
   "cell_type": "code",
   "execution_count": 5,
   "metadata": {},
   "outputs": [],
   "source": [
    "if False:\n",
    "    agent = Agent(domain_file, \n",
    "                  policies = [MemoizationPolicy(), KerasPolicy(max_history=3, epochs=200, batch_size=50)],\n",
    "                  interpreter=interpreter,\n",
    "                  action_endpoint=action_endpoint)\n",
    "    data = agent.load_data(training_data_file)\n",
    "    agent.train(data)\n",
    "    \n",
    "    # Save model to be used later\n",
    "    agent.persist(model_path)"
   ]
  },
  {
   "cell_type": "code",
   "execution_count": 6,
   "metadata": {},
   "outputs": [],
   "source": [
    "# Load saved agent, in case no training is needed.\n",
    "agent = Agent.load('./models/dialogue', interpreter=interpreter, action_endpoint=action_endpoint)"
   ]
  },
  {
   "cell_type": "code",
   "execution_count": 7,
   "metadata": {},
   "outputs": [
    {
     "name": "stderr",
     "output_type": "stream",
     "text": [
      "Processed Story Blocks: 100%|███████████████████████████████████████████| 30/30 [00:00<00:00, 417.94it/s, # trackers=1]\n"
     ]
    },
    {
     "data": {
      "text/html": [
       "\n",
       "        <iframe\n",
       "            width=\"1000\"\n",
       "            height=\"600\"\n",
       "            src=\"images/dialogtree.html\"\n",
       "            frameborder=\"0\"\n",
       "            allowfullscreen\n",
       "        ></iframe>\n",
       "        "
      ],
      "text/plain": [
       "<IPython.lib.display.IFrame at 0x25485ed7198>"
      ]
     },
     "execution_count": 7,
     "metadata": {},
     "output_type": "execute_result"
    }
   ],
   "source": [
    "# Generate tree of interaction of utterances in possible dialogs\n",
    "treeFile = \"images/dialogtree.html\"\n",
    "agent.visualize(\"data/stories.md\",output_file=treeFile, max_history=2)\n",
    "IFrame(src=treeFile, width=1000, height=600)"
   ]
  },
  {
   "cell_type": "code",
   "execution_count": 8,
   "metadata": {},
   "outputs": [
    {
     "data": {
      "text/plain": [
       "{'intent': {'name': 'reach', 'confidence': 0.48458110504032564},\n",
       " 'entities': [{'start': 9,\n",
       "   'end': 15,\n",
       "   'value': 'remote',\n",
       "   'entity': 'object',\n",
       "   'confidence': 0.9021214567067152,\n",
       "   'extractor': 'ner_crf'}],\n",
       " 'intent_ranking': [{'name': 'reach', 'confidence': 0.48458110504032564},\n",
       "  {'name': 'move', 'confidence': 0.22779233850623426},\n",
       "  {'name': 'call', 'confidence': 0.10481862212758201},\n",
       "  {'name': 'status', 'confidence': 0.04357761229436906},\n",
       "  {'name': 'attention', 'confidence': 0.03162259731935653},\n",
       "  {'name': 'thanks', 'confidence': 0.026651013173846987},\n",
       "  {'name': 'joke', 'confidence': 0.01909182391788953},\n",
       "  {'name': 'deny', 'confidence': 0.018981449521951462},\n",
       "  {'name': 'goodbye', 'confidence': 0.017926367804880418},\n",
       "  {'name': 'greet', 'confidence': 0.015110740749599168}],\n",
       " 'text': 'Pass the remote'}"
      ]
     },
     "execution_count": 8,
     "metadata": {},
     "output_type": "execute_result"
    }
   ],
   "source": [
    "interpreter.parse(u\"Pass the remote\") # Parsed phrase"
   ]
  },
  {
   "cell_type": "code",
   "execution_count": 9,
   "metadata": {},
   "outputs": [],
   "source": [
    "# Interpret a sentence\n",
    "def parsetxt(sent, deptree = False):\n",
    "    pp = interpreter.parse(sent) # Parsed phrase\n",
    "    # Print entities present in the sentence\n",
    "    print(pd.DataFrame(pp['entities']))\n",
    "    df = pd.DataFrame(pp['intent_ranking']).style.apply(lambda x: ['background: lightgreen' if x.name == 0 else '' for i in x],axis=1)\n",
    "    if(deptree):\n",
    "        doc = nlp(sent)\n",
    "        displacy.render(doc, style='dep', jupyter=True, options={'distance':90})\n",
    "    return df"
   ]
  },
  {
   "cell_type": "code",
   "execution_count": 10,
   "metadata": {},
   "outputs": [
    {
     "name": "stdout",
     "output_type": "stream",
     "text": [
      "   confidence  end  entity extractor  start   value\n",
      "0    0.754241   33  object   ner_crf     27  remote\n",
      "1    0.810362   45  object   ner_crf     41    book\n"
     ]
    },
    {
     "data": {
      "text/html": [
       "<style  type=\"text/css\" >\n",
       "    #T_448b81b0_214d_11e9_b24a_cc2f71af3fbarow0_col0 {\n",
       "            background:  lightgreen;\n",
       "        }    #T_448b81b0_214d_11e9_b24a_cc2f71af3fbarow0_col1 {\n",
       "            background:  lightgreen;\n",
       "        }</style>  \n",
       "<table id=\"T_448b81b0_214d_11e9_b24a_cc2f71af3fba\" > \n",
       "<thead>    <tr> \n",
       "        <th class=\"blank level0\" ></th> \n",
       "        <th class=\"col_heading level0 col0\" >confidence</th> \n",
       "        <th class=\"col_heading level0 col1\" >name</th> \n",
       "    </tr></thead> \n",
       "<tbody>    <tr> \n",
       "        <th id=\"T_448b81b0_214d_11e9_b24a_cc2f71af3fbalevel0_row0\" class=\"row_heading level0 row0\" >0</th> \n",
       "        <td id=\"T_448b81b0_214d_11e9_b24a_cc2f71af3fbarow0_col0\" class=\"data row0 col0\" >0.554092</td> \n",
       "        <td id=\"T_448b81b0_214d_11e9_b24a_cc2f71af3fbarow0_col1\" class=\"data row0 col1\" >reach</td> \n",
       "    </tr>    <tr> \n",
       "        <th id=\"T_448b81b0_214d_11e9_b24a_cc2f71af3fbalevel0_row1\" class=\"row_heading level0 row1\" >1</th> \n",
       "        <td id=\"T_448b81b0_214d_11e9_b24a_cc2f71af3fbarow1_col0\" class=\"data row1 col0\" >0.071187</td> \n",
       "        <td id=\"T_448b81b0_214d_11e9_b24a_cc2f71af3fbarow1_col1\" class=\"data row1 col1\" >move</td> \n",
       "    </tr>    <tr> \n",
       "        <th id=\"T_448b81b0_214d_11e9_b24a_cc2f71af3fbalevel0_row2\" class=\"row_heading level0 row2\" >2</th> \n",
       "        <td id=\"T_448b81b0_214d_11e9_b24a_cc2f71af3fbarow2_col0\" class=\"data row2 col0\" >0.070123</td> \n",
       "        <td id=\"T_448b81b0_214d_11e9_b24a_cc2f71af3fbarow2_col1\" class=\"data row2 col1\" >status</td> \n",
       "    </tr>    <tr> \n",
       "        <th id=\"T_448b81b0_214d_11e9_b24a_cc2f71af3fbalevel0_row3\" class=\"row_heading level0 row3\" >3</th> \n",
       "        <td id=\"T_448b81b0_214d_11e9_b24a_cc2f71af3fbarow3_col0\" class=\"data row3 col0\" >0.0600482</td> \n",
       "        <td id=\"T_448b81b0_214d_11e9_b24a_cc2f71af3fbarow3_col1\" class=\"data row3 col1\" >attention</td> \n",
       "    </tr>    <tr> \n",
       "        <th id=\"T_448b81b0_214d_11e9_b24a_cc2f71af3fbalevel0_row4\" class=\"row_heading level0 row4\" >4</th> \n",
       "        <td id=\"T_448b81b0_214d_11e9_b24a_cc2f71af3fbarow4_col0\" class=\"data row4 col0\" >0.0598739</td> \n",
       "        <td id=\"T_448b81b0_214d_11e9_b24a_cc2f71af3fbarow4_col1\" class=\"data row4 col1\" >thanks</td> \n",
       "    </tr>    <tr> \n",
       "        <th id=\"T_448b81b0_214d_11e9_b24a_cc2f71af3fbalevel0_row5\" class=\"row_heading level0 row5\" >5</th> \n",
       "        <td id=\"T_448b81b0_214d_11e9_b24a_cc2f71af3fbarow5_col0\" class=\"data row5 col0\" >0.0515956</td> \n",
       "        <td id=\"T_448b81b0_214d_11e9_b24a_cc2f71af3fbarow5_col1\" class=\"data row5 col1\" >joke</td> \n",
       "    </tr>    <tr> \n",
       "        <th id=\"T_448b81b0_214d_11e9_b24a_cc2f71af3fbalevel0_row6\" class=\"row_heading level0 row6\" >6</th> \n",
       "        <td id=\"T_448b81b0_214d_11e9_b24a_cc2f71af3fbarow6_col0\" class=\"data row6 col0\" >0.0436073</td> \n",
       "        <td id=\"T_448b81b0_214d_11e9_b24a_cc2f71af3fbarow6_col1\" class=\"data row6 col1\" >call</td> \n",
       "    </tr>    <tr> \n",
       "        <th id=\"T_448b81b0_214d_11e9_b24a_cc2f71af3fbalevel0_row7\" class=\"row_heading level0 row7\" >7</th> \n",
       "        <td id=\"T_448b81b0_214d_11e9_b24a_cc2f71af3fbarow7_col0\" class=\"data row7 col0\" >0.0287047</td> \n",
       "        <td id=\"T_448b81b0_214d_11e9_b24a_cc2f71af3fbarow7_col1\" class=\"data row7 col1\" >goodbye</td> \n",
       "    </tr>    <tr> \n",
       "        <th id=\"T_448b81b0_214d_11e9_b24a_cc2f71af3fbalevel0_row8\" class=\"row_heading level0 row8\" >8</th> \n",
       "        <td id=\"T_448b81b0_214d_11e9_b24a_cc2f71af3fbarow8_col0\" class=\"data row8 col0\" >0.0243287</td> \n",
       "        <td id=\"T_448b81b0_214d_11e9_b24a_cc2f71af3fbarow8_col1\" class=\"data row8 col1\" >deny</td> \n",
       "    </tr>    <tr> \n",
       "        <th id=\"T_448b81b0_214d_11e9_b24a_cc2f71af3fbalevel0_row9\" class=\"row_heading level0 row9\" >9</th> \n",
       "        <td id=\"T_448b81b0_214d_11e9_b24a_cc2f71af3fbarow9_col0\" class=\"data row9 col0\" >0.0209694</td> \n",
       "        <td id=\"T_448b81b0_214d_11e9_b24a_cc2f71af3fbarow9_col1\" class=\"data row9 col1\" >greet</td> \n",
       "    </tr></tbody> \n",
       "</table> "
      ],
      "text/plain": [
       "<pandas.io.formats.style.Styler at 0x2549c2599e8>"
      ]
     },
     "execution_count": 10,
     "metadata": {},
     "output_type": "execute_result"
    }
   ],
   "source": [
    "# Interpret a sentence\n",
    "sent1 = u\"Nurse, can you pass me the remote and my book, please\"\n",
    "parsetxt(sent1)"
   ]
  },
  {
   "cell_type": "code",
   "execution_count": 11,
   "metadata": {},
   "outputs": [
    {
     "data": {
      "text/html": [
       "<svg xmlns=\"http://www.w3.org/2000/svg\" xmlns:xlink=\"http://www.w3.org/1999/xlink\" id=\"0\" class=\"displacy\" width=\"1040\" height=\"317.0\" style=\"max-width: none; height: 317.0px; color: #000000; background: #ffffff; font-family: Arial\">\n",
       "<text class=\"displacy-token\" fill=\"currentColor\" text-anchor=\"middle\" y=\"227.0\">\n",
       "    <tspan class=\"displacy-word\" fill=\"currentColor\" x=\"50\">Nurse,</tspan>\n",
       "    <tspan class=\"displacy-tag\" dy=\"2em\" fill=\"currentColor\" x=\"50\">NOUN</tspan>\n",
       "</text>\n",
       "\n",
       "<text class=\"displacy-token\" fill=\"currentColor\" text-anchor=\"middle\" y=\"227.0\">\n",
       "    <tspan class=\"displacy-word\" fill=\"currentColor\" x=\"140\">can</tspan>\n",
       "    <tspan class=\"displacy-tag\" dy=\"2em\" fill=\"currentColor\" x=\"140\">VERB</tspan>\n",
       "</text>\n",
       "\n",
       "<text class=\"displacy-token\" fill=\"currentColor\" text-anchor=\"middle\" y=\"227.0\">\n",
       "    <tspan class=\"displacy-word\" fill=\"currentColor\" x=\"230\">you</tspan>\n",
       "    <tspan class=\"displacy-tag\" dy=\"2em\" fill=\"currentColor\" x=\"230\">PRON</tspan>\n",
       "</text>\n",
       "\n",
       "<text class=\"displacy-token\" fill=\"currentColor\" text-anchor=\"middle\" y=\"227.0\">\n",
       "    <tspan class=\"displacy-word\" fill=\"currentColor\" x=\"320\">pass</tspan>\n",
       "    <tspan class=\"displacy-tag\" dy=\"2em\" fill=\"currentColor\" x=\"320\">VERB</tspan>\n",
       "</text>\n",
       "\n",
       "<text class=\"displacy-token\" fill=\"currentColor\" text-anchor=\"middle\" y=\"227.0\">\n",
       "    <tspan class=\"displacy-word\" fill=\"currentColor\" x=\"410\">me</tspan>\n",
       "    <tspan class=\"displacy-tag\" dy=\"2em\" fill=\"currentColor\" x=\"410\">PRON</tspan>\n",
       "</text>\n",
       "\n",
       "<text class=\"displacy-token\" fill=\"currentColor\" text-anchor=\"middle\" y=\"227.0\">\n",
       "    <tspan class=\"displacy-word\" fill=\"currentColor\" x=\"500\">the</tspan>\n",
       "    <tspan class=\"displacy-tag\" dy=\"2em\" fill=\"currentColor\" x=\"500\">DET</tspan>\n",
       "</text>\n",
       "\n",
       "<text class=\"displacy-token\" fill=\"currentColor\" text-anchor=\"middle\" y=\"227.0\">\n",
       "    <tspan class=\"displacy-word\" fill=\"currentColor\" x=\"590\">remote</tspan>\n",
       "    <tspan class=\"displacy-tag\" dy=\"2em\" fill=\"currentColor\" x=\"590\">ADJ</tspan>\n",
       "</text>\n",
       "\n",
       "<text class=\"displacy-token\" fill=\"currentColor\" text-anchor=\"middle\" y=\"227.0\">\n",
       "    <tspan class=\"displacy-word\" fill=\"currentColor\" x=\"680\">and</tspan>\n",
       "    <tspan class=\"displacy-tag\" dy=\"2em\" fill=\"currentColor\" x=\"680\">CCONJ</tspan>\n",
       "</text>\n",
       "\n",
       "<text class=\"displacy-token\" fill=\"currentColor\" text-anchor=\"middle\" y=\"227.0\">\n",
       "    <tspan class=\"displacy-word\" fill=\"currentColor\" x=\"770\">my</tspan>\n",
       "    <tspan class=\"displacy-tag\" dy=\"2em\" fill=\"currentColor\" x=\"770\">ADJ</tspan>\n",
       "</text>\n",
       "\n",
       "<text class=\"displacy-token\" fill=\"currentColor\" text-anchor=\"middle\" y=\"227.0\">\n",
       "    <tspan class=\"displacy-word\" fill=\"currentColor\" x=\"860\">book,</tspan>\n",
       "    <tspan class=\"displacy-tag\" dy=\"2em\" fill=\"currentColor\" x=\"860\">NOUN</tspan>\n",
       "</text>\n",
       "\n",
       "<text class=\"displacy-token\" fill=\"currentColor\" text-anchor=\"middle\" y=\"227.0\">\n",
       "    <tspan class=\"displacy-word\" fill=\"currentColor\" x=\"950\">please</tspan>\n",
       "    <tspan class=\"displacy-tag\" dy=\"2em\" fill=\"currentColor\" x=\"950\">INTJ</tspan>\n",
       "</text>\n",
       "\n",
       "<g class=\"displacy-arrow\">\n",
       "    <path class=\"displacy-arc\" id=\"arrow-0-0\" stroke-width=\"2px\" d=\"M70,182.0 C70,47.0 315.0,47.0 315.0,182.0\" fill=\"none\" stroke=\"currentColor\"/>\n",
       "    <text dy=\"1.25em\" style=\"font-size: 0.8em; letter-spacing: 1px\">\n",
       "        <textPath xlink:href=\"#arrow-0-0\" class=\"displacy-label\" startOffset=\"50%\" fill=\"currentColor\" text-anchor=\"middle\">npadvmod</textPath>\n",
       "    </text>\n",
       "    <path class=\"displacy-arrowhead\" d=\"M70,184.0 L62,172.0 78,172.0\" fill=\"currentColor\"/>\n",
       "</g>\n",
       "\n",
       "<g class=\"displacy-arrow\">\n",
       "    <path class=\"displacy-arc\" id=\"arrow-0-1\" stroke-width=\"2px\" d=\"M160,182.0 C160,92.0 310.0,92.0 310.0,182.0\" fill=\"none\" stroke=\"currentColor\"/>\n",
       "    <text dy=\"1.25em\" style=\"font-size: 0.8em; letter-spacing: 1px\">\n",
       "        <textPath xlink:href=\"#arrow-0-1\" class=\"displacy-label\" startOffset=\"50%\" fill=\"currentColor\" text-anchor=\"middle\">aux</textPath>\n",
       "    </text>\n",
       "    <path class=\"displacy-arrowhead\" d=\"M160,184.0 L152,172.0 168,172.0\" fill=\"currentColor\"/>\n",
       "</g>\n",
       "\n",
       "<g class=\"displacy-arrow\">\n",
       "    <path class=\"displacy-arc\" id=\"arrow-0-2\" stroke-width=\"2px\" d=\"M250,182.0 C250,137.0 305.0,137.0 305.0,182.0\" fill=\"none\" stroke=\"currentColor\"/>\n",
       "    <text dy=\"1.25em\" style=\"font-size: 0.8em; letter-spacing: 1px\">\n",
       "        <textPath xlink:href=\"#arrow-0-2\" class=\"displacy-label\" startOffset=\"50%\" fill=\"currentColor\" text-anchor=\"middle\">nsubj</textPath>\n",
       "    </text>\n",
       "    <path class=\"displacy-arrowhead\" d=\"M250,184.0 L242,172.0 258,172.0\" fill=\"currentColor\"/>\n",
       "</g>\n",
       "\n",
       "<g class=\"displacy-arrow\">\n",
       "    <path class=\"displacy-arc\" id=\"arrow-0-3\" stroke-width=\"2px\" d=\"M340,182.0 C340,137.0 395.0,137.0 395.0,182.0\" fill=\"none\" stroke=\"currentColor\"/>\n",
       "    <text dy=\"1.25em\" style=\"font-size: 0.8em; letter-spacing: 1px\">\n",
       "        <textPath xlink:href=\"#arrow-0-3\" class=\"displacy-label\" startOffset=\"50%\" fill=\"currentColor\" text-anchor=\"middle\">dative</textPath>\n",
       "    </text>\n",
       "    <path class=\"displacy-arrowhead\" d=\"M395.0,184.0 L403.0,172.0 387.0,172.0\" fill=\"currentColor\"/>\n",
       "</g>\n",
       "\n",
       "<g class=\"displacy-arrow\">\n",
       "    <path class=\"displacy-arc\" id=\"arrow-0-4\" stroke-width=\"2px\" d=\"M520,182.0 C520,137.0 575.0,137.0 575.0,182.0\" fill=\"none\" stroke=\"currentColor\"/>\n",
       "    <text dy=\"1.25em\" style=\"font-size: 0.8em; letter-spacing: 1px\">\n",
       "        <textPath xlink:href=\"#arrow-0-4\" class=\"displacy-label\" startOffset=\"50%\" fill=\"currentColor\" text-anchor=\"middle\">det</textPath>\n",
       "    </text>\n",
       "    <path class=\"displacy-arrowhead\" d=\"M520,184.0 L512,172.0 528,172.0\" fill=\"currentColor\"/>\n",
       "</g>\n",
       "\n",
       "<g class=\"displacy-arrow\">\n",
       "    <path class=\"displacy-arc\" id=\"arrow-0-5\" stroke-width=\"2px\" d=\"M340,182.0 C340,47.0 585.0,47.0 585.0,182.0\" fill=\"none\" stroke=\"currentColor\"/>\n",
       "    <text dy=\"1.25em\" style=\"font-size: 0.8em; letter-spacing: 1px\">\n",
       "        <textPath xlink:href=\"#arrow-0-5\" class=\"displacy-label\" startOffset=\"50%\" fill=\"currentColor\" text-anchor=\"middle\">dobj</textPath>\n",
       "    </text>\n",
       "    <path class=\"displacy-arrowhead\" d=\"M585.0,184.0 L593.0,172.0 577.0,172.0\" fill=\"currentColor\"/>\n",
       "</g>\n",
       "\n",
       "<g class=\"displacy-arrow\">\n",
       "    <path class=\"displacy-arc\" id=\"arrow-0-6\" stroke-width=\"2px\" d=\"M610,182.0 C610,137.0 665.0,137.0 665.0,182.0\" fill=\"none\" stroke=\"currentColor\"/>\n",
       "    <text dy=\"1.25em\" style=\"font-size: 0.8em; letter-spacing: 1px\">\n",
       "        <textPath xlink:href=\"#arrow-0-6\" class=\"displacy-label\" startOffset=\"50%\" fill=\"currentColor\" text-anchor=\"middle\">cc</textPath>\n",
       "    </text>\n",
       "    <path class=\"displacy-arrowhead\" d=\"M665.0,184.0 L673.0,172.0 657.0,172.0\" fill=\"currentColor\"/>\n",
       "</g>\n",
       "\n",
       "<g class=\"displacy-arrow\">\n",
       "    <path class=\"displacy-arc\" id=\"arrow-0-7\" stroke-width=\"2px\" d=\"M790,182.0 C790,137.0 845.0,137.0 845.0,182.0\" fill=\"none\" stroke=\"currentColor\"/>\n",
       "    <text dy=\"1.25em\" style=\"font-size: 0.8em; letter-spacing: 1px\">\n",
       "        <textPath xlink:href=\"#arrow-0-7\" class=\"displacy-label\" startOffset=\"50%\" fill=\"currentColor\" text-anchor=\"middle\">poss</textPath>\n",
       "    </text>\n",
       "    <path class=\"displacy-arrowhead\" d=\"M790,184.0 L782,172.0 798,172.0\" fill=\"currentColor\"/>\n",
       "</g>\n",
       "\n",
       "<g class=\"displacy-arrow\">\n",
       "    <path class=\"displacy-arc\" id=\"arrow-0-8\" stroke-width=\"2px\" d=\"M610,182.0 C610,47.0 855.0,47.0 855.0,182.0\" fill=\"none\" stroke=\"currentColor\"/>\n",
       "    <text dy=\"1.25em\" style=\"font-size: 0.8em; letter-spacing: 1px\">\n",
       "        <textPath xlink:href=\"#arrow-0-8\" class=\"displacy-label\" startOffset=\"50%\" fill=\"currentColor\" text-anchor=\"middle\">conj</textPath>\n",
       "    </text>\n",
       "    <path class=\"displacy-arrowhead\" d=\"M855.0,184.0 L863.0,172.0 847.0,172.0\" fill=\"currentColor\"/>\n",
       "</g>\n",
       "\n",
       "<g class=\"displacy-arrow\">\n",
       "    <path class=\"displacy-arc\" id=\"arrow-0-9\" stroke-width=\"2px\" d=\"M340,182.0 C340,2.0 950.0,2.0 950.0,182.0\" fill=\"none\" stroke=\"currentColor\"/>\n",
       "    <text dy=\"1.25em\" style=\"font-size: 0.8em; letter-spacing: 1px\">\n",
       "        <textPath xlink:href=\"#arrow-0-9\" class=\"displacy-label\" startOffset=\"50%\" fill=\"currentColor\" text-anchor=\"middle\">intj</textPath>\n",
       "    </text>\n",
       "    <path class=\"displacy-arrowhead\" d=\"M950.0,184.0 L958.0,172.0 942.0,172.0\" fill=\"currentColor\"/>\n",
       "</g>\n",
       "</svg>"
      ],
      "text/plain": [
       "<IPython.core.display.HTML object>"
      ]
     },
     "metadata": {},
     "output_type": "display_data"
    }
   ],
   "source": [
    "# Render Dependency Tree\n",
    "doc = nlp(sent1)\n",
    "displacy.render(doc, style='dep', jupyter=True, options={'distance':90})"
   ]
  },
  {
   "cell_type": "code",
   "execution_count": 12,
   "metadata": {},
   "outputs": [
    {
     "name": "stdout",
     "output_type": "stream",
     "text": [
      "   confidence  end entity extractor  start     value\n",
      "0    0.901142   37  place   ner_crf     29  bathroom\n"
     ]
    },
    {
     "data": {
      "text/html": [
       "<style  type=\"text/css\" >\n",
       "    #T_44a7f4b0_214d_11e9_ace5_cc2f71af3fbarow0_col0 {\n",
       "            background:  lightgreen;\n",
       "        }    #T_44a7f4b0_214d_11e9_ace5_cc2f71af3fbarow0_col1 {\n",
       "            background:  lightgreen;\n",
       "        }</style>  \n",
       "<table id=\"T_44a7f4b0_214d_11e9_ace5_cc2f71af3fba\" > \n",
       "<thead>    <tr> \n",
       "        <th class=\"blank level0\" ></th> \n",
       "        <th class=\"col_heading level0 col0\" >confidence</th> \n",
       "        <th class=\"col_heading level0 col1\" >name</th> \n",
       "    </tr></thead> \n",
       "<tbody>    <tr> \n",
       "        <th id=\"T_44a7f4b0_214d_11e9_ace5_cc2f71af3fbalevel0_row0\" class=\"row_heading level0 row0\" >0</th> \n",
       "        <td id=\"T_44a7f4b0_214d_11e9_ace5_cc2f71af3fbarow0_col0\" class=\"data row0 col0\" >0.472748</td> \n",
       "        <td id=\"T_44a7f4b0_214d_11e9_ace5_cc2f71af3fbarow0_col1\" class=\"data row0 col1\" >move</td> \n",
       "    </tr>    <tr> \n",
       "        <th id=\"T_44a7f4b0_214d_11e9_ace5_cc2f71af3fbalevel0_row1\" class=\"row_heading level0 row1\" >1</th> \n",
       "        <td id=\"T_44a7f4b0_214d_11e9_ace5_cc2f71af3fbarow1_col0\" class=\"data row1 col0\" >0.166696</td> \n",
       "        <td id=\"T_44a7f4b0_214d_11e9_ace5_cc2f71af3fbarow1_col1\" class=\"data row1 col1\" >joke</td> \n",
       "    </tr>    <tr> \n",
       "        <th id=\"T_44a7f4b0_214d_11e9_ace5_cc2f71af3fbalevel0_row2\" class=\"row_heading level0 row2\" >2</th> \n",
       "        <td id=\"T_44a7f4b0_214d_11e9_ace5_cc2f71af3fbarow2_col0\" class=\"data row2 col0\" >0.0965778</td> \n",
       "        <td id=\"T_44a7f4b0_214d_11e9_ace5_cc2f71af3fbarow2_col1\" class=\"data row2 col1\" >reach</td> \n",
       "    </tr>    <tr> \n",
       "        <th id=\"T_44a7f4b0_214d_11e9_ace5_cc2f71af3fbalevel0_row3\" class=\"row_heading level0 row3\" >3</th> \n",
       "        <td id=\"T_44a7f4b0_214d_11e9_ace5_cc2f71af3fbarow3_col0\" class=\"data row3 col0\" >0.0685452</td> \n",
       "        <td id=\"T_44a7f4b0_214d_11e9_ace5_cc2f71af3fbarow3_col1\" class=\"data row3 col1\" >call</td> \n",
       "    </tr>    <tr> \n",
       "        <th id=\"T_44a7f4b0_214d_11e9_ace5_cc2f71af3fbalevel0_row4\" class=\"row_heading level0 row4\" >4</th> \n",
       "        <td id=\"T_44a7f4b0_214d_11e9_ace5_cc2f71af3fbarow4_col0\" class=\"data row4 col0\" >0.0571074</td> \n",
       "        <td id=\"T_44a7f4b0_214d_11e9_ace5_cc2f71af3fbarow4_col1\" class=\"data row4 col1\" >status</td> \n",
       "    </tr>    <tr> \n",
       "        <th id=\"T_44a7f4b0_214d_11e9_ace5_cc2f71af3fbalevel0_row5\" class=\"row_heading level0 row5\" >5</th> \n",
       "        <td id=\"T_44a7f4b0_214d_11e9_ace5_cc2f71af3fbarow5_col0\" class=\"data row5 col0\" >0.034392</td> \n",
       "        <td id=\"T_44a7f4b0_214d_11e9_ace5_cc2f71af3fbarow5_col1\" class=\"data row5 col1\" >attention</td> \n",
       "    </tr>    <tr> \n",
       "        <th id=\"T_44a7f4b0_214d_11e9_ace5_cc2f71af3fbalevel0_row6\" class=\"row_heading level0 row6\" >6</th> \n",
       "        <td id=\"T_44a7f4b0_214d_11e9_ace5_cc2f71af3fbarow6_col0\" class=\"data row6 col0\" >0.0326353</td> \n",
       "        <td id=\"T_44a7f4b0_214d_11e9_ace5_cc2f71af3fbarow6_col1\" class=\"data row6 col1\" >thanks</td> \n",
       "    </tr>    <tr> \n",
       "        <th id=\"T_44a7f4b0_214d_11e9_ace5_cc2f71af3fbalevel0_row7\" class=\"row_heading level0 row7\" >7</th> \n",
       "        <td id=\"T_44a7f4b0_214d_11e9_ace5_cc2f71af3fbarow7_col0\" class=\"data row7 col0\" >0.0251818</td> \n",
       "        <td id=\"T_44a7f4b0_214d_11e9_ace5_cc2f71af3fbarow7_col1\" class=\"data row7 col1\" >goodbye</td> \n",
       "    </tr>    <tr> \n",
       "        <th id=\"T_44a7f4b0_214d_11e9_ace5_cc2f71af3fbalevel0_row8\" class=\"row_heading level0 row8\" >8</th> \n",
       "        <td id=\"T_44a7f4b0_214d_11e9_ace5_cc2f71af3fbarow8_col0\" class=\"data row8 col0\" >0.0183018</td> \n",
       "        <td id=\"T_44a7f4b0_214d_11e9_ace5_cc2f71af3fbarow8_col1\" class=\"data row8 col1\" >greet</td> \n",
       "    </tr>    <tr> \n",
       "        <th id=\"T_44a7f4b0_214d_11e9_ace5_cc2f71af3fbalevel0_row9\" class=\"row_heading level0 row9\" >9</th> \n",
       "        <td id=\"T_44a7f4b0_214d_11e9_ace5_cc2f71af3fbarow9_col0\" class=\"data row9 col0\" >0.0177602</td> \n",
       "        <td id=\"T_44a7f4b0_214d_11e9_ace5_cc2f71af3fbarow9_col1\" class=\"data row9 col1\" >deny</td> \n",
       "    </tr></tbody> \n",
       "</table> "
      ],
      "text/plain": [
       "<pandas.io.formats.style.Styler at 0x254ba387588>"
      ]
     },
     "execution_count": 12,
     "metadata": {},
     "output_type": "execute_result"
    }
   ],
   "source": [
    "# Interprete a sentence\n",
    "sent2 = \"Nurse, help me to get to the bathroom please\"\n",
    "parsetxt(sent2)"
   ]
  },
  {
   "cell_type": "code",
   "execution_count": 13,
   "metadata": {},
   "outputs": [
    {
     "data": {
      "text/html": [
       "<svg xmlns=\"http://www.w3.org/2000/svg\" xmlns:xlink=\"http://www.w3.org/1999/xlink\" id=\"0\" class=\"displacy\" width=\"1040\" height=\"357.0\" style=\"max-width: none; height: 357.0px; color: #000000; background: #ffffff; font-family: Arial\">\n",
       "<text class=\"displacy-token\" fill=\"currentColor\" text-anchor=\"middle\" y=\"267.0\">\n",
       "    <tspan class=\"displacy-word\" fill=\"currentColor\" x=\"50\">Nurse,</tspan>\n",
       "    <tspan class=\"displacy-tag\" dy=\"2em\" fill=\"currentColor\" x=\"50\">VERB</tspan>\n",
       "</text>\n",
       "\n",
       "<text class=\"displacy-token\" fill=\"currentColor\" text-anchor=\"middle\" y=\"267.0\">\n",
       "    <tspan class=\"displacy-word\" fill=\"currentColor\" x=\"160\">help</tspan>\n",
       "    <tspan class=\"displacy-tag\" dy=\"2em\" fill=\"currentColor\" x=\"160\">VERB</tspan>\n",
       "</text>\n",
       "\n",
       "<text class=\"displacy-token\" fill=\"currentColor\" text-anchor=\"middle\" y=\"267.0\">\n",
       "    <tspan class=\"displacy-word\" fill=\"currentColor\" x=\"270\">me</tspan>\n",
       "    <tspan class=\"displacy-tag\" dy=\"2em\" fill=\"currentColor\" x=\"270\">PRON</tspan>\n",
       "</text>\n",
       "\n",
       "<text class=\"displacy-token\" fill=\"currentColor\" text-anchor=\"middle\" y=\"267.0\">\n",
       "    <tspan class=\"displacy-word\" fill=\"currentColor\" x=\"380\">to</tspan>\n",
       "    <tspan class=\"displacy-tag\" dy=\"2em\" fill=\"currentColor\" x=\"380\">PART</tspan>\n",
       "</text>\n",
       "\n",
       "<text class=\"displacy-token\" fill=\"currentColor\" text-anchor=\"middle\" y=\"267.0\">\n",
       "    <tspan class=\"displacy-word\" fill=\"currentColor\" x=\"490\">get</tspan>\n",
       "    <tspan class=\"displacy-tag\" dy=\"2em\" fill=\"currentColor\" x=\"490\">VERB</tspan>\n",
       "</text>\n",
       "\n",
       "<text class=\"displacy-token\" fill=\"currentColor\" text-anchor=\"middle\" y=\"267.0\">\n",
       "    <tspan class=\"displacy-word\" fill=\"currentColor\" x=\"600\">to</tspan>\n",
       "    <tspan class=\"displacy-tag\" dy=\"2em\" fill=\"currentColor\" x=\"600\">ADP</tspan>\n",
       "</text>\n",
       "\n",
       "<text class=\"displacy-token\" fill=\"currentColor\" text-anchor=\"middle\" y=\"267.0\">\n",
       "    <tspan class=\"displacy-word\" fill=\"currentColor\" x=\"710\">the</tspan>\n",
       "    <tspan class=\"displacy-tag\" dy=\"2em\" fill=\"currentColor\" x=\"710\">DET</tspan>\n",
       "</text>\n",
       "\n",
       "<text class=\"displacy-token\" fill=\"currentColor\" text-anchor=\"middle\" y=\"267.0\">\n",
       "    <tspan class=\"displacy-word\" fill=\"currentColor\" x=\"820\">bathroom</tspan>\n",
       "    <tspan class=\"displacy-tag\" dy=\"2em\" fill=\"currentColor\" x=\"820\">NOUN</tspan>\n",
       "</text>\n",
       "\n",
       "<text class=\"displacy-token\" fill=\"currentColor\" text-anchor=\"middle\" y=\"267.0\">\n",
       "    <tspan class=\"displacy-word\" fill=\"currentColor\" x=\"930\">please</tspan>\n",
       "    <tspan class=\"displacy-tag\" dy=\"2em\" fill=\"currentColor\" x=\"930\">VERB</tspan>\n",
       "</text>\n",
       "\n",
       "<g class=\"displacy-arrow\">\n",
       "    <path class=\"displacy-arc\" id=\"arrow-0-0\" stroke-width=\"2px\" d=\"M70,222.0 C70,167.0 145.0,167.0 145.0,222.0\" fill=\"none\" stroke=\"currentColor\"/>\n",
       "    <text dy=\"1.25em\" style=\"font-size: 0.8em; letter-spacing: 1px\">\n",
       "        <textPath xlink:href=\"#arrow-0-0\" class=\"displacy-label\" startOffset=\"50%\" fill=\"currentColor\" text-anchor=\"middle\">nsubj</textPath>\n",
       "    </text>\n",
       "    <path class=\"displacy-arrowhead\" d=\"M70,224.0 L62,212.0 78,212.0\" fill=\"currentColor\"/>\n",
       "</g>\n",
       "\n",
       "<g class=\"displacy-arrow\">\n",
       "    <path class=\"displacy-arc\" id=\"arrow-0-1\" stroke-width=\"2px\" d=\"M290,222.0 C290,112.0 480.0,112.0 480.0,222.0\" fill=\"none\" stroke=\"currentColor\"/>\n",
       "    <text dy=\"1.25em\" style=\"font-size: 0.8em; letter-spacing: 1px\">\n",
       "        <textPath xlink:href=\"#arrow-0-1\" class=\"displacy-label\" startOffset=\"50%\" fill=\"currentColor\" text-anchor=\"middle\">nsubj</textPath>\n",
       "    </text>\n",
       "    <path class=\"displacy-arrowhead\" d=\"M290,224.0 L282,212.0 298,212.0\" fill=\"currentColor\"/>\n",
       "</g>\n",
       "\n",
       "<g class=\"displacy-arrow\">\n",
       "    <path class=\"displacy-arc\" id=\"arrow-0-2\" stroke-width=\"2px\" d=\"M400,222.0 C400,167.0 475.0,167.0 475.0,222.0\" fill=\"none\" stroke=\"currentColor\"/>\n",
       "    <text dy=\"1.25em\" style=\"font-size: 0.8em; letter-spacing: 1px\">\n",
       "        <textPath xlink:href=\"#arrow-0-2\" class=\"displacy-label\" startOffset=\"50%\" fill=\"currentColor\" text-anchor=\"middle\">aux</textPath>\n",
       "    </text>\n",
       "    <path class=\"displacy-arrowhead\" d=\"M400,224.0 L392,212.0 408,212.0\" fill=\"currentColor\"/>\n",
       "</g>\n",
       "\n",
       "<g class=\"displacy-arrow\">\n",
       "    <path class=\"displacy-arc\" id=\"arrow-0-3\" stroke-width=\"2px\" d=\"M180,222.0 C180,57.0 485.0,57.0 485.0,222.0\" fill=\"none\" stroke=\"currentColor\"/>\n",
       "    <text dy=\"1.25em\" style=\"font-size: 0.8em; letter-spacing: 1px\">\n",
       "        <textPath xlink:href=\"#arrow-0-3\" class=\"displacy-label\" startOffset=\"50%\" fill=\"currentColor\" text-anchor=\"middle\">ccomp</textPath>\n",
       "    </text>\n",
       "    <path class=\"displacy-arrowhead\" d=\"M485.0,224.0 L493.0,212.0 477.0,212.0\" fill=\"currentColor\"/>\n",
       "</g>\n",
       "\n",
       "<g class=\"displacy-arrow\">\n",
       "    <path class=\"displacy-arc\" id=\"arrow-0-4\" stroke-width=\"2px\" d=\"M510,222.0 C510,167.0 585.0,167.0 585.0,222.0\" fill=\"none\" stroke=\"currentColor\"/>\n",
       "    <text dy=\"1.25em\" style=\"font-size: 0.8em; letter-spacing: 1px\">\n",
       "        <textPath xlink:href=\"#arrow-0-4\" class=\"displacy-label\" startOffset=\"50%\" fill=\"currentColor\" text-anchor=\"middle\">prep</textPath>\n",
       "    </text>\n",
       "    <path class=\"displacy-arrowhead\" d=\"M585.0,224.0 L593.0,212.0 577.0,212.0\" fill=\"currentColor\"/>\n",
       "</g>\n",
       "\n",
       "<g class=\"displacy-arrow\">\n",
       "    <path class=\"displacy-arc\" id=\"arrow-0-5\" stroke-width=\"2px\" d=\"M730,222.0 C730,167.0 805.0,167.0 805.0,222.0\" fill=\"none\" stroke=\"currentColor\"/>\n",
       "    <text dy=\"1.25em\" style=\"font-size: 0.8em; letter-spacing: 1px\">\n",
       "        <textPath xlink:href=\"#arrow-0-5\" class=\"displacy-label\" startOffset=\"50%\" fill=\"currentColor\" text-anchor=\"middle\">det</textPath>\n",
       "    </text>\n",
       "    <path class=\"displacy-arrowhead\" d=\"M730,224.0 L722,212.0 738,212.0\" fill=\"currentColor\"/>\n",
       "</g>\n",
       "\n",
       "<g class=\"displacy-arrow\">\n",
       "    <path class=\"displacy-arc\" id=\"arrow-0-6\" stroke-width=\"2px\" d=\"M620,222.0 C620,112.0 810.0,112.0 810.0,222.0\" fill=\"none\" stroke=\"currentColor\"/>\n",
       "    <text dy=\"1.25em\" style=\"font-size: 0.8em; letter-spacing: 1px\">\n",
       "        <textPath xlink:href=\"#arrow-0-6\" class=\"displacy-label\" startOffset=\"50%\" fill=\"currentColor\" text-anchor=\"middle\">pobj</textPath>\n",
       "    </text>\n",
       "    <path class=\"displacy-arrowhead\" d=\"M810.0,224.0 L818.0,212.0 802.0,212.0\" fill=\"currentColor\"/>\n",
       "</g>\n",
       "\n",
       "<g class=\"displacy-arrow\">\n",
       "    <path class=\"displacy-arc\" id=\"arrow-0-7\" stroke-width=\"2px\" d=\"M180,222.0 C180,2.0 930.0,2.0 930.0,222.0\" fill=\"none\" stroke=\"currentColor\"/>\n",
       "    <text dy=\"1.25em\" style=\"font-size: 0.8em; letter-spacing: 1px\">\n",
       "        <textPath xlink:href=\"#arrow-0-7\" class=\"displacy-label\" startOffset=\"50%\" fill=\"currentColor\" text-anchor=\"middle\">intj</textPath>\n",
       "    </text>\n",
       "    <path class=\"displacy-arrowhead\" d=\"M930.0,224.0 L938.0,212.0 922.0,212.0\" fill=\"currentColor\"/>\n",
       "</g>\n",
       "</svg>"
      ],
      "text/plain": [
       "<IPython.core.display.HTML object>"
      ]
     },
     "metadata": {},
     "output_type": "display_data"
    }
   ],
   "source": [
    "# Render Dependency Tree\n",
    "doc = nlp(sent2)\n",
    "displacy.render(doc, style='dep', jupyter=True, options={'distance':110})"
   ]
  },
  {
   "cell_type": "code",
   "execution_count": 14,
   "metadata": {},
   "outputs": [
    {
     "name": "stdout",
     "output_type": "stream",
     "text": [
      "   confidence  end  entity extractor  start   value\n",
      "0    0.724851   15  callto   ner_crf      9  doctor\n"
     ]
    },
    {
     "data": {
      "text/html": [
       "<style  type=\"text/css\" >\n",
       "    #T_44b53210_214d_11e9_8e33_cc2f71af3fbarow0_col0 {\n",
       "            background:  lightgreen;\n",
       "        }    #T_44b53210_214d_11e9_8e33_cc2f71af3fbarow0_col1 {\n",
       "            background:  lightgreen;\n",
       "        }</style>  \n",
       "<table id=\"T_44b53210_214d_11e9_8e33_cc2f71af3fba\" > \n",
       "<thead>    <tr> \n",
       "        <th class=\"blank level0\" ></th> \n",
       "        <th class=\"col_heading level0 col0\" >confidence</th> \n",
       "        <th class=\"col_heading level0 col1\" >name</th> \n",
       "    </tr></thead> \n",
       "<tbody>    <tr> \n",
       "        <th id=\"T_44b53210_214d_11e9_8e33_cc2f71af3fbalevel0_row0\" class=\"row_heading level0 row0\" >0</th> \n",
       "        <td id=\"T_44b53210_214d_11e9_8e33_cc2f71af3fbarow0_col0\" class=\"data row0 col0\" >0.243571</td> \n",
       "        <td id=\"T_44b53210_214d_11e9_8e33_cc2f71af3fbarow0_col1\" class=\"data row0 col1\" >joke</td> \n",
       "    </tr>    <tr> \n",
       "        <th id=\"T_44b53210_214d_11e9_8e33_cc2f71af3fbalevel0_row1\" class=\"row_heading level0 row1\" >1</th> \n",
       "        <td id=\"T_44b53210_214d_11e9_8e33_cc2f71af3fbarow1_col0\" class=\"data row1 col0\" >0.240259</td> \n",
       "        <td id=\"T_44b53210_214d_11e9_8e33_cc2f71af3fbarow1_col1\" class=\"data row1 col1\" >reach</td> \n",
       "    </tr>    <tr> \n",
       "        <th id=\"T_44b53210_214d_11e9_8e33_cc2f71af3fbalevel0_row2\" class=\"row_heading level0 row2\" >2</th> \n",
       "        <td id=\"T_44b53210_214d_11e9_8e33_cc2f71af3fbarow2_col0\" class=\"data row2 col0\" >0.185137</td> \n",
       "        <td id=\"T_44b53210_214d_11e9_8e33_cc2f71af3fbarow2_col1\" class=\"data row2 col1\" >move</td> \n",
       "    </tr>    <tr> \n",
       "        <th id=\"T_44b53210_214d_11e9_8e33_cc2f71af3fbalevel0_row3\" class=\"row_heading level0 row3\" >3</th> \n",
       "        <td id=\"T_44b53210_214d_11e9_8e33_cc2f71af3fbarow3_col0\" class=\"data row3 col0\" >0.16123</td> \n",
       "        <td id=\"T_44b53210_214d_11e9_8e33_cc2f71af3fbarow3_col1\" class=\"data row3 col1\" >call</td> \n",
       "    </tr>    <tr> \n",
       "        <th id=\"T_44b53210_214d_11e9_8e33_cc2f71af3fbalevel0_row4\" class=\"row_heading level0 row4\" >4</th> \n",
       "        <td id=\"T_44b53210_214d_11e9_8e33_cc2f71af3fbarow4_col0\" class=\"data row4 col0\" >0.0411208</td> \n",
       "        <td id=\"T_44b53210_214d_11e9_8e33_cc2f71af3fbarow4_col1\" class=\"data row4 col1\" >thanks</td> \n",
       "    </tr>    <tr> \n",
       "        <th id=\"T_44b53210_214d_11e9_8e33_cc2f71af3fbalevel0_row5\" class=\"row_heading level0 row5\" >5</th> \n",
       "        <td id=\"T_44b53210_214d_11e9_8e33_cc2f71af3fbarow5_col0\" class=\"data row5 col0\" >0.0398082</td> \n",
       "        <td id=\"T_44b53210_214d_11e9_8e33_cc2f71af3fbarow5_col1\" class=\"data row5 col1\" >status</td> \n",
       "    </tr>    <tr> \n",
       "        <th id=\"T_44b53210_214d_11e9_8e33_cc2f71af3fbalevel0_row6\" class=\"row_heading level0 row6\" >6</th> \n",
       "        <td id=\"T_44b53210_214d_11e9_8e33_cc2f71af3fbarow6_col0\" class=\"data row6 col0\" >0.0217837</td> \n",
       "        <td id=\"T_44b53210_214d_11e9_8e33_cc2f71af3fbarow6_col1\" class=\"data row6 col1\" >deny</td> \n",
       "    </tr>    <tr> \n",
       "        <th id=\"T_44b53210_214d_11e9_8e33_cc2f71af3fbalevel0_row7\" class=\"row_heading level0 row7\" >7</th> \n",
       "        <td id=\"T_44b53210_214d_11e9_8e33_cc2f71af3fbarow7_col0\" class=\"data row7 col0\" >0.0201348</td> \n",
       "        <td id=\"T_44b53210_214d_11e9_8e33_cc2f71af3fbarow7_col1\" class=\"data row7 col1\" >attention</td> \n",
       "    </tr>    <tr> \n",
       "        <th id=\"T_44b53210_214d_11e9_8e33_cc2f71af3fbalevel0_row8\" class=\"row_heading level0 row8\" >8</th> \n",
       "        <td id=\"T_44b53210_214d_11e9_8e33_cc2f71af3fbarow8_col0\" class=\"data row8 col0\" >0.0186381</td> \n",
       "        <td id=\"T_44b53210_214d_11e9_8e33_cc2f71af3fbarow8_col1\" class=\"data row8 col1\" >greet</td> \n",
       "    </tr>    <tr> \n",
       "        <th id=\"T_44b53210_214d_11e9_8e33_cc2f71af3fbalevel0_row9\" class=\"row_heading level0 row9\" >9</th> \n",
       "        <td id=\"T_44b53210_214d_11e9_8e33_cc2f71af3fbarow9_col0\" class=\"data row9 col0\" >0.0184519</td> \n",
       "        <td id=\"T_44b53210_214d_11e9_8e33_cc2f71af3fbarow9_col1\" class=\"data row9 col1\" >goodbye</td> \n",
       "    </tr></tbody> \n",
       "</table> "
      ],
      "text/plain": [
       "<pandas.io.formats.style.Styler at 0x254ba3879b0>"
      ]
     },
     "execution_count": 14,
     "metadata": {},
     "output_type": "execute_result"
    }
   ],
   "source": [
    "parsetxt(\"call the doctor and tell me a joke\")"
   ]
  },
  {
   "cell_type": "code",
   "execution_count": 65,
   "metadata": {},
   "outputs": [],
   "source": [
    "#Script to get the Text-To-Speech output.\n",
    "audioFolder = \"./audios/\"\n",
    "effect = [\"\",\n",
    "          \"&FX_TYPE=P&FX_LEVEL=2\", #Pitch\n",
    "          \"&FX_TYPE=D&FX_LEVEL=-1\" #Duration\n",
    "         ]\n",
    "rooturl = [\"https://cache-a.oddcast.com/tts/gen.php?EID=3&LID=1&VID=3&TXT=\",\n",
    "           \"&IS_UTF8=1&ACC=3314795&API=2292376&CB=vw_mc.vwCallback&HTTP_ERR=1&vwApiVersion=2\"]\n",
    "characters ={\",\" : \"%2C\",\" \" : \"%20\",\"?\" : \"%3F\",\"'\" : \"%27\"}\n",
    "def play(phrase, ef = 0):\n",
    "    for ch in characters:\n",
    "        phrase = phrase.replace(ch,characters[ch]) #Replace character to match type in URL\n",
    "    url = rooturl[0] + phrase + effect[ef]+ rooturl[1] #Build the URL\n",
    "    file = audioFolder + str(uuid.uuid4()) +'.mp3'\n",
    "    urllib.request.urlretrieve(url, file)\n",
    "    playsound(file, True)\n",
    "    #print(file)\n",
    "    os.remove(file)"
   ]
  },
  {
   "cell_type": "code",
   "execution_count": 59,
   "metadata": {},
   "outputs": [],
   "source": [
    "play(\"My name is nurse. How may I help you?\",0)"
   ]
  },
  {
   "cell_type": "code",
   "execution_count": 21,
   "metadata": {},
   "outputs": [
    {
     "name": "stdout",
     "output_type": "stream",
     "text": [
      "Say something!\n",
      "I think you said: hello\n"
     ]
    }
   ],
   "source": [
    "#Configure microphone calibration\n",
    "# Perform a quick test\n",
    "r = sr.Recognizer()\n",
    "with sr.Microphone() as source:\n",
    "    #print(\"Please wait. Calibrating microphone...\")\n",
    "    # listen for 1 second and create the ambient noise energy level\n",
    "    r.adjust_for_ambient_noise(source, duration=1)\n",
    "    print(\"Say something!\")\n",
    "    audio = r.listen(source,phrase_time_limit=5)\n",
    "    response = r.recognize_google(audio)\n",
    "    print(\"I think you said: \" + response)"
   ]
  },
  {
   "cell_type": "code",
   "execution_count": 22,
   "metadata": {},
   "outputs": [],
   "source": [
    "def printOut(msg, speech_out = False):\n",
    "    print(\"👩 \"+\" >> \" + msg +\"\\n\")\n",
    "    if(speech_out):\n",
    "        play(msg)"
   ]
  },
  {
   "cell_type": "code",
   "execution_count": 31,
   "metadata": {},
   "outputs": [],
   "source": [
    "def init_nurse_bot(speech_in=False,speech_out=False):\n",
    "    print(\"[INFO] The nurse is ready to listen. Please start a dialog... (Type 'stop' to quit)\\n\")\n",
    "    errormsg = \"I'm sorry, I didn't get it. Could you repeat please?\"\n",
    "    with sr.Microphone() as source:\n",
    "        r.adjust_for_ambient_noise(source, duration=1)\n",
    "        while True:\n",
    "            # >>>>>>>>>>> Input sentence\n",
    "            if(speech_in):\n",
    "                flag = False\n",
    "                cont = 0\n",
    "                while(not flag):\n",
    "                    try:\n",
    "                        print(\"Listening... >> \", end='')\n",
    "                        audio = r.listen(source,phrase_time_limit=3)\n",
    "                        a = r.recognize_google(audio)\n",
    "                        print(a, end='\\n')\n",
    "                        flag = True\n",
    "                    except:\n",
    "                        cont += 1\n",
    "                        printOut(errormsg, False)\n",
    "                        if(cont == 3):\n",
    "                            print(\"\\n[TERMINATED]\", end='')\n",
    "                            return\n",
    "            else:\n",
    "                print(\">> \", end='')\n",
    "                a = input()\n",
    "            if a == 'stop':\n",
    "                print(\"\\n[TERMINATED]\", end='')\n",
    "                return\n",
    "            responses = agent.handle_message(a)\n",
    "            if(len(responses) == 0):\n",
    "                print(\"Action returned 0 elements. Maybe the action listener is not active. Activate listener:\\n python -m rasa_core_sdk.endpoint --actions actions\")\n",
    "            for response in responses:\n",
    "                printOut(response[\"text\"], speech_out)\n",
    "                if(response[\"text\"] == \"Have a nice day!\"):\n",
    "                    print(\"\\n[TERMINATED]\", end='')\n",
    "                    return"
   ]
  },
  {
   "cell_type": "code",
   "execution_count": null,
   "metadata": {},
   "outputs": [],
   "source": [
    "#Activate action listener in an external console!: \n",
    "# python -m rasa_core_sdk.endpoint --actions actions"
   ]
  },
  {
   "cell_type": "code",
   "execution_count": 57,
   "metadata": {
    "scrolled": true
   },
   "outputs": [
    {
     "name": "stdout",
     "output_type": "stream",
     "text": [
      "[INFO] The nurse is ready to listen. Please start a dialog... (Type 'stop' to quit)\n",
      "\n",
      "Listening... >> hello\n",
      "👩  >> Hello! You can call me Nurse. How can I help you?\n",
      "\n"
     ]
    },
    {
     "data": {
      "text/html": [
       "\n",
       "                <audio controls=\"controls\" autoplay=\"autoplay\">\n",
       "                    <source src=\"./audios/e8edfc93-8c3a-45ea-b53a-ef0f4486fa81.mp3\" type=\"audio/mpeg\" />\n",
       "                    Your browser does not support the audio element.\n",
       "                </audio>\n",
       "              "
      ],
      "text/plain": [
       "<IPython.lib.display.Audio object>"
      ]
     },
     "metadata": {},
     "output_type": "display_data"
    },
    {
     "name": "stdout",
     "output_type": "stream",
     "text": [
      "Listening... >> tell me a joke\n",
      "👩  >> The Chuck Norris commandments: Six days thou shalt work out on your Total Gym, but the seventh day thou shalt rest and watch a Chuck Norris movie (Chuck 1:4)\n",
      "\n"
     ]
    },
    {
     "data": {
      "text/html": [
       "\n",
       "                <audio controls=\"controls\" autoplay=\"autoplay\">\n",
       "                    <source src=\"./audios/6f4ec0f9-7273-4220-929a-b69ef589b329.mp3\" type=\"audio/mpeg\" />\n",
       "                    Your browser does not support the audio element.\n",
       "                </audio>\n",
       "              "
      ],
      "text/plain": [
       "<IPython.lib.display.Audio object>"
      ]
     },
     "metadata": {},
     "output_type": "display_data"
    },
    {
     "name": "stdout",
     "output_type": "stream",
     "text": [
      "Listening... >> 👩  >> I'm sorry, I didn't get it. Could you repeat please?\n",
      "\n",
      "Listening... >> 👩  >> I'm sorry, I didn't get it. Could you repeat please?\n",
      "\n",
      "Listening... >> 👩  >> I'm sorry, I didn't get it. Could you repeat please?\n",
      "\n",
      "\n",
      "[TERMINATED]"
     ]
    }
   ],
   "source": [
    "init_nurse_bot(True,True)"
   ]
  },
  {
   "cell_type": "code",
   "execution_count": null,
   "metadata": {},
   "outputs": [],
   "source": [
    "#!python -m rasa_core.run -d models/dialogue -u models/nursebot/interpreter --debug --endpoints endpoints.yml"
   ]
  }
 ],
 "metadata": {
  "kernelspec": {
   "display_name": "Python 3",
   "language": "python",
   "name": "python3"
  },
  "language_info": {
   "codemirror_mode": {
    "name": "ipython",
    "version": 3
   },
   "file_extension": ".py",
   "mimetype": "text/x-python",
   "name": "python",
   "nbconvert_exporter": "python",
   "pygments_lexer": "ipython3",
   "version": "3.6.6"
  },
  "varInspector": {
   "cols": {
    "lenName": 16,
    "lenType": 16,
    "lenVar": 40
   },
   "kernels_config": {
    "python": {
     "delete_cmd_postfix": "",
     "delete_cmd_prefix": "del ",
     "library": "var_list.py",
     "varRefreshCmd": "print(var_dic_list())"
    },
    "r": {
     "delete_cmd_postfix": ") ",
     "delete_cmd_prefix": "rm(",
     "library": "var_list.r",
     "varRefreshCmd": "cat(var_dic_list()) "
    }
   },
   "types_to_exclude": [
    "module",
    "function",
    "builtin_function_or_method",
    "instance",
    "_Feature"
   ],
   "window_display": false
  }
 },
 "nbformat": 4,
 "nbformat_minor": 2
}
